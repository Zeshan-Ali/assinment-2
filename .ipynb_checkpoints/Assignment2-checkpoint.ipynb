{
 "cells": [
  {
   "cell_type": "markdown",
   "id": "c160b55e",
   "metadata": {},
   "source": [
    "# Vice versa\n",
    "\n",
    "c ------> F\n",
    "F ------ C"
   ]
  },
  {
   "cell_type": "code",
   "execution_count": 7,
   "id": "f6f65958",
   "metadata": {},
   "outputs": [
    {
     "name": "stdout",
     "output_type": "stream",
     "text": [
      "enter 1 for coverting F to C : \n",
      " enter 2 for converting C to F :3\n",
      "invalid choice\n"
     ]
    }
   ],
   "source": [
    "choice = int(input(\"enter 1 for coverting F to C : \\n enter 2 for converting C to F :\"))\n",
    "\n",
    "if choice == 1:\n",
    "    print(\"you are going to convert F to C\")\n",
    "elif choice == 2 :\n",
    "    print(\"you are going to convert C to F\")\n",
    "else:\n",
    "    print(\"invalid choice\")\n",
    "    "
   ]
  },
  {
   "cell_type": "code",
   "execution_count": null,
   "id": "fda2905b",
   "metadata": {},
   "outputs": [],
   "source": [
    "print(\"ot is change for github\")"
   ]
  }
 ],
 "metadata": {
  "kernelspec": {
   "display_name": "Python 3 (ipykernel)",
   "language": "python",
   "name": "python3"
  },
  "language_info": {
   "codemirror_mode": {
    "name": "ipython",
    "version": 3
   },
   "file_extension": ".py",
   "mimetype": "text/x-python",
   "name": "python",
   "nbconvert_exporter": "python",
   "pygments_lexer": "ipython3",
   "version": "3.11.5"
  }
 },
 "nbformat": 4,
 "nbformat_minor": 5
}
