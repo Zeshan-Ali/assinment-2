{
 "cells": [
  {
   "cell_type": "markdown",
   "id": "7757322e",
   "metadata": {},
   "source": [
    "# Vice versa\n",
    "\n",
    "c ------> F\n",
    "F ------ C"
   ]
  },
  {
   "cell_type": "code",
   "execution_count": 6,
   "id": "04d9b64c",
   "metadata": {},
   "outputs": [
    {
     "name": "stdout",
     "output_type": "stream",
     "text": [
      "enter 1 for coverting F to C : \n",
      " enter 2 for converting C to F :d\n"
     ]
    },
    {
     "ename": "ValueError",
     "evalue": "invalid literal for int() with base 10: 'd'",
     "output_type": "error",
     "traceback": [
      "\u001b[1;31m---------------------------------------------------------------------------\u001b[0m",
      "\u001b[1;31mValueError\u001b[0m                                Traceback (most recent call last)",
      "Cell \u001b[1;32mIn[6], line 1\u001b[0m\n\u001b[1;32m----> 1\u001b[0m choice \u001b[38;5;241m=\u001b[39m \u001b[38;5;28mint\u001b[39m(\u001b[38;5;28minput\u001b[39m(\u001b[38;5;124m\"\u001b[39m\u001b[38;5;124menter 1 for coverting F to C : \u001b[39m\u001b[38;5;130;01m\\n\u001b[39;00m\u001b[38;5;124m enter 2 for converting C to F :\u001b[39m\u001b[38;5;124m\"\u001b[39m))\n\u001b[0;32m      3\u001b[0m \u001b[38;5;28;01mif\u001b[39;00m choice \u001b[38;5;241m==\u001b[39m \u001b[38;5;241m1\u001b[39m:\n\u001b[0;32m      4\u001b[0m     \u001b[38;5;28mprint\u001b[39m(\u001b[38;5;124m\"\u001b[39m\u001b[38;5;124myou are going to convert F to C\u001b[39m\u001b[38;5;124m\"\u001b[39m)\n",
      "\u001b[1;31mValueError\u001b[0m: invalid literal for int() with base 10: 'd'"
     ]
    }
   ],
   "source": [
    "choice = int(input(\"enter 1 for coverting F to C : \\n enter 2 for converting C to F :\"))\n",
    "\n",
    "if choice == 1:\n",
    "    print(\"you are going to convert F to C\")\n",
    "elif choice == 2 :\n",
    "    print(\"you are going to convert C to F\")\n",
    "else:\n",
    "    print(\"invalid choice\")\n",
    "    "
   ]
  },
  {
   "cell_type": "code",
   "execution_count": null,
   "id": "7fb94fa7",
   "metadata": {},
   "outputs": [],
   "source": []
  }
 ],
 "metadata": {
  "kernelspec": {
   "display_name": "Python 3 (ipykernel)",
   "language": "python",
   "name": "python3"
  },
  "language_info": {
   "codemirror_mode": {
    "name": "ipython",
    "version": 3
   },
   "file_extension": ".py",
   "mimetype": "text/x-python",
   "name": "python",
   "nbconvert_exporter": "python",
   "pygments_lexer": "ipython3",
   "version": "3.11.5"
  }
 },
 "nbformat": 4,
 "nbformat_minor": 5
}
